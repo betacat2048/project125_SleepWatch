{
 "cells": [
  {
   "cell_type": "code",
   "execution_count": 1,
   "metadata": {},
   "outputs": [],
   "source": [
    "import os\n",
    "import glob\n",
    "import datetime\n",
    "import numpy as np\n",
    "import pandas as pd\n",
    "from dateutil import parser\n",
    "from functools import reduce"
   ]
  },
  {
   "cell_type": "code",
   "execution_count": 2,
   "metadata": {},
   "outputs": [
    {
     "data": {
      "text/plain": [
       "{'daily': 24, 'hourly': 33, 'minute': 24, 'seconds': 14}"
      ]
     },
     "execution_count": 2,
     "metadata": {},
     "output_type": "execute_result"
    }
   ],
   "source": [
    "root = os.path.join(os.getcwd(), \"data\\\\\")\n",
    "csv_files = {os.path.basename(p) : glob.glob(os.path.join(p, \"*.csv\")) for p, _, files in os.walk(root) if len(files) > 0}\n",
    "datasets = {folder:{os.path.basename(f): pd.read_csv(f) for f in fs} for folder, fs in csv_files.items()}\n",
    "ids_in_files = {folder:{f:np.unique(ds['Id'].values) for f, ds in dataset.items()} for folder, dataset in datasets.items()}\n",
    "IDs = {f:reduce(np.intersect1d, [v for v in vs.values()]) for f, vs in ids_in_files.items()}\n",
    "{f:len(ids) for f, ids in IDs.items()}"
   ]
  },
  {
   "cell_type": "code",
   "execution_count": 3,
   "metadata": {},
   "outputs": [],
   "source": [
    "date_granularity = {\n",
    "    'daily':    '%Y-%m-%d 00:00:00',\n",
    "    'hourly':   '%Y-%m-%d %H:00:00',\n",
    "    'minute':   '%Y-%m-%d %H:%M:00',\n",
    "    'seconds':  '%Y-%m-%d %H:%M:%S'\n",
    "}\n",
    "\n",
    "for f, ids in IDs.items():\n",
    "    folder = os.getcwd() + '\\\\out\\\\' + f\n",
    "    os.makedirs(folder, exist_ok=True) \n",
    "    for id in ids:\n",
    "        df = pd.DataFrame(columns=['date'])\n",
    "        dates = list(sorted(list(set(parser.parse(date).strftime(date_granularity[f]) for ds in datasets[f].values() for date in ds[ds['Id'] == id].iloc[:, 1]))))\n",
    "        df['date'] = dates\n",
    "\n",
    "        for ds in datasets[f].values():\n",
    "            ds = ds[ds['Id'] == id].copy()\n",
    "            ds.iloc[:, 1] = ds.iloc[:, 1].apply(lambda d:parser.parse(d).strftime(date_granularity[f]))\n",
    "            ds = ds.drop(columns='Id')\n",
    "\n",
    "            df = df.merge(ds, how='left', left_on='date', right_on=ds.keys()[0])\n",
    "            if ds.keys()[0] != 'date':\n",
    "                df = df.drop(columns=ds.keys()[0])\n",
    "        df.to_csv(f'{folder}\\\\{id}.csv')"
   ]
  }
 ],
 "metadata": {
  "kernelspec": {
   "display_name": "Python 3",
   "language": "python",
   "name": "python3"
  },
  "language_info": {
   "codemirror_mode": {
    "name": "ipython",
    "version": 3
   },
   "file_extension": ".py",
   "mimetype": "text/x-python",
   "name": "python",
   "nbconvert_exporter": "python",
   "pygments_lexer": "ipython3",
   "version": "3.10.7"
  },
  "orig_nbformat": 4,
  "vscode": {
   "interpreter": {
    "hash": "26de051ba29f2982a8de78e945f0abaf191376122a1563185a90213a26c5da77"
   }
  }
 },
 "nbformat": 4,
 "nbformat_minor": 2
}
