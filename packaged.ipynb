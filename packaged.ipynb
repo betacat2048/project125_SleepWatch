{
 "cells": [
  {
   "cell_type": "code",
   "execution_count": 1,
   "metadata": {},
   "outputs": [],
   "source": [
    "import json\n",
    "import torch\n",
    "import traceback\n",
    "import itertools"
   ]
  },
  {
   "cell_type": "code",
   "execution_count": 52,
   "metadata": {},
   "outputs": [],
   "source": [
    "__model__ = None\n",
    "\n",
    "__feature_neams__ = ['TotalSteps', 'TotalDistance', 'TrackerDistance', 'LoggedActivitiesDistance', 'VeryActiveDistance', 'ModeratelyActiveDistance', 'LightActiveDistance', 'SedentaryActiveDistance', 'VeryActiveMinutes', 'FairlyActiveMinutes', 'LightlyActiveMinutes', 'SedentaryMinutes', 'Calories', 'StepTotal']\n",
    "\n",
    "__spot_feature__ = None\n",
    "__spot_names__ = None"
   ]
  },
  {
   "cell_type": "code",
   "execution_count": 59,
   "metadata": {},
   "outputs": [
    {
     "data": {
      "text/plain": [
       "'{\"return\": [{\"features\": [{\"feature\": \"SedentaryMinutes\", \"increase:\": true, \"sorce\": 0.02699221856892109, \"grad\": 0.02699221856892109}, {\"feature\": \"TotalDistance\", \"increase:\": true, \"sorce\": 0.015108737163245678, \"grad\": 0.015108737163245678}, {\"feature\": \"FairlyActiveMinutes\", \"increase:\": true, \"sorce\": 0.012789390981197357, \"grad\": 0.012789390981197357}, {\"feature\": \"LightlyActiveMinutes\", \"increase:\": true, \"sorce\": 0.008207416161894798, \"grad\": 0.008207416161894798}, {\"feature\": \"TotalSteps\", \"increase:\": true, \"sorce\": 0.007286544423550367, \"grad\": 0.007286544423550367}], \"spots\": [{\"spot\": \"walking brisk\", \"sorce\": 0.46626126766204834}, {\"spot\": \"bicycling\", \"sorce\": 0.427340030670166}, {\"spot\": \"running\", \"sorce\": 0.3752664029598236}]}]}'"
      ]
     },
     "execution_count": 59,
     "metadata": {},
     "output_type": "execute_result"
    }
   ],
   "source": [
    "request = '{\"contexts\":[[-0.7979, -0.8019, -0.8019,  0.0000, -0.5425, -0.3981, -0.4444,  0.0000, -0.5429, -0.4084, -0.2121, -0.2240, -0.3177, -0.7979]]}'\n",
    "request = json.loads(request)\n",
    "contexts = request[\"contexts\"]\n",
    "feature_num = request.get('feature_num', 5)\n",
    "spot_num = request.get('spot_num', 3)\n",
    "\n",
    "\n",
    "assert isinstance(contexts, list), 'Expect contexts to be a list'\n",
    "assert all(isinstance(ctx, list) and len(ctx) == 14 for ctx in contexts), 'Expect all list in contexts has 14 features'\n",
    "\n",
    "global __model__, __spot_feature__, __spot_names__, __feature_neams__\n",
    "if __model__ is None:\n",
    "    __model__ = torch.load('daily_model.pth')\n",
    "if __spot_feature__ is None:\n",
    "    with open('spot.json') as f:\n",
    "        spot = json.load(f)\n",
    "    __spot_feature__ = torch.tensor(list(spot.values())).float()\n",
    "    __spot_names__ = list(spot.keys())\n",
    "\n",
    "results = []\n",
    "for context in contexts:\n",
    "    x = torch.tensor(context, requires_grad=True)[None, :]\n",
    "    y = __model__['pred_model'](__model__['auto_encoder'](x))\n",
    "\n",
    "    g, = torch.autograd.grad(y, x)  # dy/dx\n",
    "    g.squeeze_()\n",
    "\n",
    "    s = __spot_feature__ @ g\n",
    "\n",
    "    results.append({\n",
    "        'features': [{'feature': __feature_neams__[i], 'increase:':bool(g[i]>0), 'sorce':abs(g[i].item()), 'grad':g[i].item()} for i in itertools.islice(torch.argsort(g, descending=True), feature_num)],\n",
    "        'spots': [{'spot': __spot_names__[i], 'sorce': s[i].item()} for i in itertools.islice(torch.argsort(s, descending=True), spot_num)]\n",
    "    })\n",
    "\n",
    "json.dumps({\"return\": results})"
   ]
  },
  {
   "cell_type": "code",
   "execution_count": null,
   "metadata": {},
   "outputs": [],
   "source": [
    "import torch\n",
    "\n",
    "'''\n",
    "\n",
    "TotalSteps\n",
    "TotalDistance\n",
    "TrackerDistance\n",
    "LoggedActivitiesDistance\n",
    "VeryActiveDistance\n",
    "ModeratelyActiveDistance\n",
    "LightActiveDistance\n",
    "SedentaryActiveDistance\n",
    "VeryActiveMinutes\n",
    "FairlyActiveMinutes\n",
    "LightlyActiveMinutes\n",
    "SedentaryMinutes\n",
    "Calories\n",
    "StepTotal\n",
    "\n",
    "'''\n",
    "\n",
    "def get_recommendation(x):\n",
    "    saved_model = torch.load('daily_model.pth')\n",
    "    x = torch.tensor(x, requires_grad=True)[None, :]\n",
    "    y = saved_model['pred_model'](saved_model['auto_encoder'](x))\n",
    "\n",
    "    g, = torch.autograd.grad(y, x) # dy/dx\n",
    "    \n",
    "    return g[0].tolist()\n",
    "\n",
    "get_recommendation([-0.7979, -0.8019, -0.8019,  0.0000, -0.5425, -0.3981, -0.4444,  0.0000, -0.5429, -0.4084, -0.2121, -0.2240, -0.3177, -0.7979])"
   ]
  },
  {
   "attachments": {},
   "cell_type": "markdown",
   "metadata": {},
   "source": [
    "$$\n",
    "input = \\frac{x-\\mu}{\\sigma}\n",
    "$$\n",
    "\n",
    "$$\n",
    "\\mu_{i+1} = (1-\\alpha)\\cdot\\mu_{i} + \\alpha\\cdot x\n",
    "$$\n",
    "$$\n",
    "\\chi_{i+1} = (1-\\alpha)\\cdot\\chi_{i} + \\alpha\\cdot x^2\n",
    "$$\n",
    "$$\n",
    "\\sigma_{i+1} = \\sqrt{\\chi_{i+1}-\\mu^2_{i+1}}\n",
    "$$"
   ]
  },
  {
   "cell_type": "code",
   "execution_count": null,
   "metadata": {},
   "outputs": [],
   "source": [
    "mean, chi = 0, 0\n",
    "x = 1\n",
    "def sqrt(x):\n",
    "    return 0\n",
    "def get_data():\n",
    "    return 0\n",
    "\n",
    "a = 0.1\n",
    "mean = None\n",
    "chi  = None\n",
    "while True:\n",
    "    x = get_data()\n",
    "\n",
    "    mean = (1 - a) * mean + a * x    if mean is not None else x\n",
    "    chi  = (1 - a) * chi  + a * x**2 if chi  is not None else x**2\n",
    "\n",
    "    std = sqrt(chi - mean**2)\n",
    "    y = (x - mean) / (std if std > 0 else 1)"
   ]
  },
  {
   "cell_type": "code",
   "execution_count": null,
   "metadata": {},
   "outputs": [],
   "source": [
    "import numpy as np\n",
    "\n",
    "class running_z_sorce:\n",
    "    def __init__(self, a:float=0.1) -> None:\n",
    "        self.mean = None\n",
    "        self.chi  = None\n",
    "        self.a = a\n",
    "    \n",
    "    def get(self, xs):\n",
    "        self.mean = [(1 - self.a) * m + self.a * x    for x, m in zip(xs, self.mean)] if self.mean is not None else [x    for x in xs]\n",
    "        self.chi  = [(1 - self.a) * c + self.a * x**2 for x, c in zip(xs, self.chi )] if self.chi  is not None else [x**2 for x in xs]\n",
    "\n",
    "        std = [np.sqrt(c - m**2) for m, c in zip(self.mean, self.chi)]\n",
    "        return [(x - m) / (s if s > 0 else 1) for x, m, s in zip(xs, self.mean, std)]\n",
    "\n",
    "instance = running_z_sorce()\n",
    "print(instance.get([1, 2, 3]))\n",
    "print(instance.get([2, 0, 0]))\n",
    "print(instance.get([1, 2, 2]))\n",
    "print(instance.get([2, 3, 1]))"
   ]
  }
 ],
 "metadata": {
  "kernelspec": {
   "display_name": "Python 3",
   "language": "python",
   "name": "python3"
  },
  "language_info": {
   "codemirror_mode": {
    "name": "ipython",
    "version": 3
   },
   "file_extension": ".py",
   "mimetype": "text/x-python",
   "name": "python",
   "nbconvert_exporter": "python",
   "pygments_lexer": "ipython3",
   "version": "3.10.7"
  },
  "orig_nbformat": 4
 },
 "nbformat": 4,
 "nbformat_minor": 2
}
