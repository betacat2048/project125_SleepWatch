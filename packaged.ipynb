{
 "cells": [
  {
   "cell_type": "code",
   "execution_count": 33,
   "metadata": {},
   "outputs": [
    {
     "data": {
      "text/plain": [
       "[-0.004122241400182247,\n",
       " 0.012845130637288094,\n",
       " 0.056976012885570526,\n",
       " -0.013588578440248966,\n",
       " -0.010482622310519218,\n",
       " 0.005569590255618095,\n",
       " 0.01334634143859148,\n",
       " 0.00990015733987093,\n",
       " 0.030572285875678062,\n",
       " -0.027795812115073204,\n",
       " 6.991784175625071e-05,\n",
       " 0.008708796463906765,\n",
       " 0.010712523013353348,\n",
       " 0.04377811774611473]"
      ]
     },
     "execution_count": 33,
     "metadata": {},
     "output_type": "execute_result"
    }
   ],
   "source": [
    "import torch\n",
    "\n",
    "'''\n",
    "\n",
    "TotalSteps\n",
    "TotalDistance\n",
    "TrackerDistance\n",
    "LoggedActivitiesDistance\n",
    "VeryActiveDistance\n",
    "ModeratelyActiveDistance\n",
    "LightActiveDistance\n",
    "SedentaryActiveDistance\n",
    "VeryActiveMinutes\n",
    "FairlyActiveMinutes\n",
    "LightlyActiveMinutes\n",
    "SedentaryMinutes\n",
    "Calories\n",
    "StepTotal\n",
    "\n",
    "'''\n",
    "\n",
    "def get_recommendation(x:list[float]):\n",
    "    saved_model = torch.load('daily_model.pth')\n",
    "    x = torch.tensor(x, requires_grad=True)[None, :]\n",
    "    y = saved_model['pred_model'](saved_model['auto_encoder'].encoder(x))\n",
    "\n",
    "    g, = torch.autograd.grad(y, x) # dy/dx\n",
    "    \n",
    "    return g[0].tolist()\n",
    "\n",
    "get_recommendation([-0.7979, -0.8019, -0.8019,  0.0000, -0.5425, -0.3981, -0.4444,  0.0000, -0.5429, -0.4084, -0.2121, -0.2240, -0.3177, -0.7979])"
   ]
  }
 ],
 "metadata": {
  "kernelspec": {
   "display_name": "Python 3",
   "language": "python",
   "name": "python3"
  },
  "language_info": {
   "codemirror_mode": {
    "name": "ipython",
    "version": 3
   },
   "file_extension": ".py",
   "mimetype": "text/x-python",
   "name": "python",
   "nbconvert_exporter": "python",
   "pygments_lexer": "ipython3",
   "version": "3.10.7"
  },
  "orig_nbformat": 4
 },
 "nbformat": 4,
 "nbformat_minor": 2
}
